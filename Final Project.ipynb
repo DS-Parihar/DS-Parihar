{
 "cells": [
  {
   "cell_type": "markdown",
   "id": "8a414ded",
   "metadata": {},
   "source": [
    "# My Jupyter Notebook on IBM Watson Studio"
   ]
  },
  {
   "cell_type": "markdown",
   "id": "20729db4",
   "metadata": {},
   "source": [
    "In this notebook, Data Science tools and ecosystem is summarised."
   ]
  },
  {
   "cell_type": "markdown",
   "id": "6cd27c6e",
   "metadata": {},
   "source": [
    "#### Data science languages are:\n",
    "- Python\n",
    "- R, SQL \n",
    "- Scala\n",
    "- Java\n",
    "- C++\n",
    "- Julia\n",
    "- JavaScript\n",
    "- PHP\n",
    "- Go\n",
    "- Ruby\n",
    "- Visual basic "
   ]
  },
  {
   "cell_type": "markdown",
   "id": "a59b2b27",
   "metadata": {},
   "source": [
    "#### Data science libraries are:\n",
    "- Pandas\n",
    "- Numpy\n",
    "- Matplotlib\n",
    "- Seaborn\n",
    "- Scikit-learn\n",
    "- Keras\n",
    "- TensorFlow\n",
    "- PyTorch\n",
    "- Apache Spark\n",
    "- Vegas\n",
    "- Big DL\n",
    "- Ggplot2"
   ]
  },
  {
   "cell_type": "markdown",
   "id": "1b4ab115",
   "metadata": {},
   "source": [
    "\n",
    "|Type of Source|Development Environments|Execution Environments|Fully Integrated Visual Tools|Data Management|Data Integration|Data Visualization|Model Deployment|Model Monitoring|Model Building|Fully Integrated Tool|\n",
    "|--------------|------------------------|----------------------|-----------------------------|---------------|----------------|------------------|----------------|----------------|--------------|--------------------|\n",
    "|Open Source   |Jupyter |Apache Spark          |KNIME    |MySQL          |Apache Airflow  |Pixie Dust |Apache PredictionIO|ModelDB|||\n",
    "|              |Jupyterlab |Apache Flink          |    |PostgreSQL     |KubeFlow        |Hue|Seldon|Prometheus|||\n",
    "|              |Jupyter Notebook |                      |         |MongoDB        |Apache Kafka    |Kibana|Kubernetes|IBM AI Fairness 360|||\n",
    "|              |Apache Zepplin |                      |            |Apache CouchDB |Apache Nifi     |Apache Superset|Redhat OpenShift|IBM Adeversarial Robustness 360|||\n",
    "|              |R Studio|                      |              |Apache Cassndra|Apache SparkSQL ||Mleap|IBM AI Explainability 360|||\n",
    "|              |Spyder |                      |              |Hadoop         |NodeRED         ||TensorFlow Service|||\n",
    "|              | |                      |                 |Ceph           |||TensorFlow lite|||\n",
    "|              ||                      |                |Elastic Search |||TensorFlow.JS|||\n",
    "|Commercial    |                        |                      |                            |Oracle Database  |Informatica PowerCenter|            |               |     |SPSS Modeler|Watson Studio|\n",
    "|||||Oracle Database|IBM infoSphere DataStage||||SAS Enterprise Miner||Watson Open Scale|\n",
    "|||||Oracle Database|Microsoft SQL Server|||||\n",
    "|||||Oracle Database|IBM DB2|||||\n",
    "|Cloud-Based|||||Informatica Cloud Data Inegration|Datameer||Amazon SageMaker|Watson Machine Learning|Watson Studio|\n",
    "||||||IBM Data Refinery|IBM Congo Business||||Watson Open Scale|"
   ]
  },
  {
   "cell_type": "markdown",
   "id": "aeac1b08",
   "metadata": {},
   "source": [
    "#### Examples of Arithmetic operations will be shown below"
   ]
  },
  {
   "cell_type": "code",
   "execution_count": 1,
   "id": "d4f691c4",
   "metadata": {},
   "outputs": [
    {
     "data": {
      "text/plain": [
       "117"
      ]
     },
     "execution_count": 1,
     "metadata": {},
     "output_type": "execute_result"
    }
   ],
   "source": [
    "# The following is a code to multiply and add numbers\n",
    "(6+7)*9"
   ]
  },
  {
   "cell_type": "code",
   "execution_count": 2,
   "id": "c9b15085",
   "metadata": {},
   "outputs": [
    {
     "name": "stdout",
     "output_type": "stream",
     "text": [
      "1.3\n"
     ]
    }
   ],
   "source": [
    "Minutes = 78\n",
    "Hours = (Minutes/60)\n",
    "print(Hours)"
   ]
  },
  {
   "cell_type": "markdown",
   "id": "2b4eedec",
   "metadata": {},
   "source": [
    "## Learning Objectives of the Assignment is:\n",
    "- Create a Jupyter Notebook with markdown and code cells\n",
    "- List examples of languages, libraries and tools used in Data Science\n",
    "- Share your Jupyter Notebook publicly on GitHub\n",
    "- Evaluate notebooks submitted by your peers using the provided rubric\n",
    "- Demonstrate proficiency in Data Science toolkit knowledge"
   ]
  },
  {
   "cell_type": "markdown",
   "id": "e995e6ce",
   "metadata": {},
   "source": [
    "## Author\n",
    "Deependra Singh Parihar"
   ]
  }
 ],
 "metadata": {
  "kernelspec": {
   "display_name": "Python 3 (ipykernel)",
   "language": "python",
   "name": "python3"
  },
  "language_info": {
   "codemirror_mode": {
    "name": "ipython",
    "version": 3
   },
   "file_extension": ".py",
   "mimetype": "text/x-python",
   "name": "python",
   "nbconvert_exporter": "python",
   "pygments_lexer": "ipython3",
   "version": "3.10.6"
  }
 },
 "nbformat": 4,
 "nbformat_minor": 5
}
