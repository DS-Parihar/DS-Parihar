{
 "cells": [
  {
   "cell_type": "markdown",
   "id": "8a414ded",
   "metadata": {},
   "source": [
    "# My Jupyter Notebook on IBM Watson Studio"
   ]
  },
  {
   "cell_type": "markdown",
   "id": "e995e6ce",
   "metadata": {},
   "source": [
    "#### Deependra Singh Parihar"
   ]
  },
  {
   "cell_type": "markdown",
   "id": "f91c44ba",
   "metadata": {},
   "source": [
    "Currently I am an student looking forward to build my career in data science"
   ]
  },
  {
   "cell_type": "markdown",
   "id": "c8fbfbfc",
   "metadata": {},
   "source": [
    "# This Below will print hello world"
   ]
  },
  {
   "cell_type": "code",
   "execution_count": 1,
   "id": "a2235064",
   "metadata": {},
   "outputs": [
    {
     "name": "stdout",
     "output_type": "stream",
     "text": [
      "Hello World\n"
     ]
    }
   ],
   "source": [
    "print(\"Hello World\")"
   ]
  },
  {
   "cell_type": "markdown",
   "id": "21fc6971",
   "metadata": {},
   "source": [
    "Few of data science languages are - \n",
    "Python\n",
    "R\n",
    "JavaScript"
   ]
  },
  {
   "cell_type": "markdown",
   "id": "e783f660",
   "metadata": {},
   "source": [
    "Few of data science tools are - jupyer tableau and anaconda"
   ]
  },
  {
   "cell_type": "markdown",
   "id": "3ebae379",
   "metadata": {},
   "source": [
    "Few of data science libraries are - Numpy Pandas And Matplotlib"
   ]
  },
  {
   "cell_type": "markdown",
   "id": "fd2f710c",
   "metadata": {},
   "source": [
    "Example for addition of two numbers"
   ]
  },
  {
   "cell_type": "code",
   "execution_count": 2,
   "id": "5d2980bc",
   "metadata": {},
   "outputs": [
    {
     "name": "stdout",
     "output_type": "stream",
     "text": [
      "60\n"
     ]
    }
   ],
   "source": [
    "a = 20\n",
    "b = 40\n",
    "c = a + b\n",
    "print(c)"
   ]
  },
  {
   "cell_type": "code",
   "execution_count": 3,
   "id": "7662da4d",
   "metadata": {},
   "outputs": [
    {
     "name": "stdout",
     "output_type": "stream",
     "text": [
      "800\n"
     ]
    }
   ],
   "source": [
    "d = a*b\n",
    "print(d)"
   ]
  },
  {
   "cell_type": "code",
   "execution_count": 5,
   "id": "4f1d2ceb",
   "metadata": {},
   "outputs": [
    {
     "name": "stdout",
     "output_type": "stream",
     "text": [
      "Enter Minutes72\n",
      "Given Minutes are  1  hours and  12  minutes\n"
     ]
    }
   ],
   "source": [
    "x = int(input(\"Enter Minutes\"))\n",
    "rem = x%60\n",
    "hour = x//60\n",
    "print(\"Given Minutes are \",hour,\" hours and \",rem,\" minutes\")"
   ]
  },
  {
   "cell_type": "code",
   "execution_count": null,
   "id": "a2a224f9",
   "metadata": {},
   "outputs": [],
   "source": []
  }
 ],
 "metadata": {
  "kernelspec": {
   "display_name": "Python 3 (ipykernel)",
   "language": "python",
   "name": "python3"
  },
  "language_info": {
   "codemirror_mode": {
    "name": "ipython",
    "version": 3
   },
   "file_extension": ".py",
   "mimetype": "text/x-python",
   "name": "python",
   "nbconvert_exporter": "python",
   "pygments_lexer": "ipython3",
   "version": "3.10.6"
  }
 },
 "nbformat": 4,
 "nbformat_minor": 5
}
